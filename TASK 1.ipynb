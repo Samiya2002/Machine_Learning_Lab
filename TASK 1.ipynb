{
 "cells": [
  {
   "cell_type": "code",
   "execution_count": 2,
   "id": "7e2ffd9a",
   "metadata": {},
   "outputs": [],
   "source": [
    "import pandas as pd\n",
    "import numpy as np"
   ]
  },
  {
   "cell_type": "code",
   "execution_count": 7,
   "id": "f023e5ab",
   "metadata": {},
   "outputs": [
    {
     "name": "stdout",
     "output_type": "stream",
     "text": [
      "Output\n",
      "          English  Math\n",
      "StudentA       19    17\n",
      "StudentB       18    18\n",
      "Output\n",
      "  Unnamed: 0  English  Math\n",
      "0   StudentA       19    17\n",
      "1   StudentB       18    18\n"
     ]
    }
   ],
   "source": [
    "marks={\"English\":[19,18], \"Math\":[17,18]}\n",
    "df=pd.DataFrame(marks,index=[\"StudentA\",\"StudentB\"])\n",
    "print(\"Output\")\n",
    "print(df)\n",
    "df.to_csv(\"dfs.csv\")\n",
    "print(\"Output\")\n",
    "dfs=pd.read_csv(\"dfs.csv\")\n",
    "print(dfs)"
   ]
  },
  {
   "cell_type": "code",
   "execution_count": null,
   "id": "39f304d5",
   "metadata": {},
   "outputs": [],
   "source": []
  }
 ],
 "metadata": {
  "kernelspec": {
   "display_name": "Python 3 (ipykernel)",
   "language": "python",
   "name": "python3"
  },
  "language_info": {
   "codemirror_mode": {
    "name": "ipython",
    "version": 3
   },
   "file_extension": ".py",
   "mimetype": "text/x-python",
   "name": "python",
   "nbconvert_exporter": "python",
   "pygments_lexer": "ipython3",
   "version": "3.10.9"
  }
 },
 "nbformat": 4,
 "nbformat_minor": 5
}
